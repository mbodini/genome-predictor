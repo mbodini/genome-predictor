{
    "cells": [
        {
            "cell_type": "code",
            "execution_count": 21,
            "metadata": {},
            "outputs": [],
            "source": [
                "from typing import List\n",
                "\n",
                "import numpy as np\n",
                "import pandas as pd\n",
                "import seaborn as sns\n",
                "\n",
                "from Bio import SeqIO\n",
                "from Bio.SeqRecord import SeqRecord\n",
                "from joblib import Parallel, delayed\n",
                "from sklearn.cluster import KMeans\n",
                "from sklearn.model_selection import train_test_split\n",
                "from matplotlib import pyplot as plt\n",
                "\n",
                "\n",
                "# Fix global random seed for reproducibility\n",
                "SEED = 0"
            ]
        },
        {
            "cell_type": "markdown",
            "metadata": {},
            "source": [
                "# Data preprocessing"
            ]
        },
        {
            "cell_type": "markdown",
            "metadata": {},
            "source": [
                "In the following, we show how the data has been preprocessed. We started by downloading 36609 genomes from PubMLST. From this initial set, we selected only non-complete genomes of _Neisseria meningitidis_, narrowing the set to 25959 genomes."
            ]
        },
        {
            "cell_type": "code",
            "execution_count": 22,
            "metadata": {},
            "outputs": [
                {
                    "name": "stdout",
                    "output_type": "stream",
                    "text": [
                        "Total genomes: 25959\n"
                    ]
                }
            ],
            "source": [
                "genomes = pd.read_csv(\"../data/genomes.csv\", low_memory=False)\n",
                "genomes = genomes[(genomes.species==\"Neisseria meningitidis\") & (genomes.Complete==0)]\n",
                "print(\"Total genomes:\", genomes.shape[0])"
            ]
        },
        {
            "cell_type": "markdown",
            "metadata": {},
            "source": [
                "From the remaining genomes, we build the two datasets used in this study:\n",
                "- `capsule`, the dataset used to train a classifier to distinguish capsule group-B (`1`) vs. non capsule group-B (`0`) genomes;\n",
                "- `disease`, the dataset used to train a classifier to distinguish invasive (`1`) from carriage (`0`) genomes."
            ]
        },
        {
            "cell_type": "markdown",
            "metadata": {},
            "source": [
                "## `capsule` dataset\n",
                "\n",
                "We start off by filtering out all the genomes where `capsule_group` is unknown or labelled as `discrepancy`, restricting the set of usable genomes to 25290."
            ]
        },
        {
            "cell_type": "code",
            "execution_count": 23,
            "metadata": {},
            "outputs": [
                {
                    "name": "stdout",
                    "output_type": "stream",
                    "text": [
                        "Total genomes for capsule task: 25290\n"
                    ]
                }
            ],
            "source": [
                "capsule_genomes = genomes[genomes.capsule_group.notnull() & (genomes.capsule_group!=\"discrepancy\")].copy()\n",
                "print(\"Total genomes for capsule task:\", capsule_genomes.shape[0])"
            ]
        },
        {
            "cell_type": "markdown",
            "metadata": {},
            "source": [
                "We label each genome with `1` if its `capsule_group` is `B`, and with `0` otherwise. "
            ]
        },
        {
            "cell_type": "code",
            "execution_count": 24,
            "metadata": {},
            "outputs": [
                {
                    "name": "stdout",
                    "output_type": "stream",
                    "text": [
                        "Distribution of labels:\n"
                    ]
                },
                {
                    "data": {
                        "text/plain": [
                            "0    15124\n",
                            "1    10166\n",
                            "Name: Label, dtype: int64"
                        ]
                    },
                    "execution_count": 24,
                    "metadata": {},
                    "output_type": "execute_result"
                }
            ],
            "source": [
                "def get_capsule_label(capsule_group: str) -> int:\n",
                "    if capsule_group == \"B\":\n",
                "        return 1\n",
                "    return 0\n",
                "\n",
                "capsule_genomes[\"Label\"] = capsule_genomes.capsule_group.apply(get_capsule_label)\n",
                "\n",
                "print(\"Distribution of labels:\")\n",
                "capsule_genomes.Label.value_counts()"
            ]
        },
        {
            "cell_type": "markdown",
            "metadata": {},
            "source": [
                "For each genome, we calculate the fraction of the genome covered by the 10 longest contigs (in terms of number of bases):"
            ]
        },
        {
            "cell_type": "code",
            "execution_count": 25,
            "metadata": {},
            "outputs": [
                {
                    "name": "stderr",
                    "output_type": "stream",
                    "text": [
                        "[Parallel(n_jobs=-1)]: Using backend LokyBackend with 96 concurrent workers.\n",
                        "[Parallel(n_jobs=-1)]: Done   8 tasks      | elapsed:    0.1s\n",
                        "[Parallel(n_jobs=-1)]: Done 324 tasks      | elapsed:    0.7s\n",
                        "[Parallel(n_jobs=-1)]: Done 1024 tasks      | elapsed:    1.4s\n",
                        "[Parallel(n_jobs=-1)]: Done 1924 tasks      | elapsed:    2.3s\n",
                        "[Parallel(n_jobs=-1)]: Done 3024 tasks      | elapsed:    3.4s\n",
                        "[Parallel(n_jobs=-1)]: Done 4324 tasks      | elapsed:    5.1s\n",
                        "[Parallel(n_jobs=-1)]: Done 5824 tasks      | elapsed:    6.6s\n",
                        "[Parallel(n_jobs=-1)]: Done 7524 tasks      | elapsed:    8.2s\n",
                        "[Parallel(n_jobs=-1)]: Done 9424 tasks      | elapsed:   10.2s\n",
                        "[Parallel(n_jobs=-1)]: Done 11524 tasks      | elapsed:   12.3s\n",
                        "[Parallel(n_jobs=-1)]: Done 13824 tasks      | elapsed:   14.6s\n",
                        "[Parallel(n_jobs=-1)]: Done 16324 tasks      | elapsed:   17.3s\n",
                        "[Parallel(n_jobs=-1)]: Done 19024 tasks      | elapsed:   20.1s\n",
                        "[Parallel(n_jobs=-1)]: Done 21924 tasks      | elapsed:   23.0s\n",
                        "[Parallel(n_jobs=-1)]: Done 25024 tasks      | elapsed:   26.2s\n",
                        "[Parallel(n_jobs=-1)]: Done 25290 out of 25290 | elapsed:   26.3s finished\n"
                    ]
                }
            ],
            "source": [
                "NUM_CONTIGS = 10\n",
                "\n",
                "def read_fasta(path: str) -> List[SeqRecord]:\n",
                "    \"\"\"Loads BioPython SeqRecords given the path to a fasta file.\"\"\"\n",
                "    return list(SeqIO.parse(path, \"fasta\"))\n",
                "\n",
                "\n",
                "def _calculate_fraction_covered(genome_path: str) -> dict:\n",
                "    \"\"\"\n",
                "    Calculates the fraction of a genome (accessible with `genome_path`)\n",
                "    covered by the `num` longest contigs.\n",
                "    \"\"\"\n",
                "    contigs = [str(c.seq) for c in read_fasta(genome_path)]\n",
                "    if len(contigs) <= NUM_CONTIGS:\n",
                "        return {\"Path\": genome_path, \"FractionCovered\": 1.0}\n",
                "\n",
                "    sorted_lengths = sorted([len(cont) for cont in contigs], reverse=True)\n",
                "    numerator = sum(sorted_lengths[:NUM_CONTIGS])\n",
                "    denominator = sum(sorted_lengths)\n",
                "    return {\"Path\": genome_path, f\"FractionCovered\": numerator / denominator}\n",
                "\n",
                "\n",
                "def calculate_fraction_covered(genomes_df: pd.DataFrame) -> pd.DataFrame:\n",
                "    \"\"\"\n",
                "    Adds a column to the geneomes in the DataFrame `genomes_file` containing the genome\n",
                "    fraction covered by the `num` longest contigs.\n",
                "    \"\"\"\n",
                "    results = Parallel(verbose=1, n_jobs=-1)(\n",
                "        delayed(_calculate_fraction_covered)(p)\n",
                "        for p in genomes_df.Path.tolist()\n",
                "    )\n",
                "    return pd.merge(genomes_df, pd.DataFrame(results), on=\"Path\")\n",
                "\n",
                "def format_and_save_dataset(df: pd.DataFrame, filename: str):\n",
                "    columns = [\"id\", \"isolate\", \"Label\", \"FractionCovered\"]\n",
                "    df[columns].to_csv(filename, index=False)\n",
                "\n",
                "updated_capsule_genomes = calculate_fraction_covered(capsule_genomes)\n",
                "format_and_save_dataset(updated_capsule_genomes, \"fig2_panelA.csv\")"
            ]
        },
        {
            "attachments": {},
            "cell_type": "markdown",
            "metadata": {},
            "source": [
                "If we plot a histogram the `FractionCovered` stratified by `Capsule type`, we find that the 10 longest contigs of genomes labelled with `0` cover in general a larger fraction of the genome than genomes labelled with `1`. To prevent the classifier from picking this pattern to distinguish class `0` from class `1`, we will remove this bias."
            ]
        },
        {
            "cell_type": "code",
            "execution_count": 26,
            "metadata": {},
            "outputs": [
                {
                    "data": {
                        "text/plain": [
                            "(0.0, 705.0)"
                        ]
                    },
                    "execution_count": 26,
                    "metadata": {},
                    "output_type": "execute_result"
                },
                {
                    "data": {
                        "image/png": "[encoded data removed]",
                        "text/plain": [
                            "<Figure size 640x480 with 1 Axes>"
                        ]
                    },
                    "metadata": {},
                    "output_type": "display_data"
                }
            ],
            "source": [
                "hp_data = updated_capsule_genomes.copy()\n",
                "hp_data.Label = hp_data.Label.apply(lambda x: \"Not B\" if x == 0 else \"B\")\n",
                "hp_data = hp_data.rename({\"Label\": \"Capsule type\"}, axis=1)\n",
                "ax = sns.histplot(data=hp_data, x=\"FractionCovered\", hue=\"Capsule type\", hue_order=[\"Not B\", \"B\"])\n",
                "ax.set_ylim([0, 705])"
            ]
        },
        {
            "cell_type": "markdown",
            "metadata": {},
            "source": [
                "To remove the bias, we proceed as follows:\n",
                "- we cluster `FractionCovered` in 512 clusters using `sklearn.cluster.KMeans`\n",
                "- for each cluster, we downsample the majority class within the cluster so that its amount is equal to the minority class."
            ]
        },
        {
            "cell_type": "code",
            "execution_count": 27,
            "metadata": {},
            "outputs": [
                {
                    "name": "stderr",
                    "output_type": "stream",
                    "text": [
                        "/home/mp894858/miniconda3/envs/genpred/lib/python3.9/site-packages/sklearn/cluster/_kmeans.py:870: FutureWarning: The default value of `n_init` will change from 10 to 'auto' in 1.4. Set the value of `n_init` explicitly to suppress the warning\n",
                        "  warnings.warn(\n"
                    ]
                }
            ],
            "source": [
                "NUM_CLUSTERS = 512\n",
                "\n",
                "def balance_quality(genomes_df: pd.DataFrame) -> pd.DataFrame:\n",
                "    \"\"\"Balances dataset quality.\"\"\"\n",
                "\n",
                "    X = genomes_df[f\"FractionCovered\"].values.reshape(-1, 1)  \n",
                "    genomes_df[\"Cluster\"] = KMeans(\n",
                "        n_clusters=NUM_CLUSTERS, \n",
                "        random_state=SEED,\n",
                "    ).fit_predict(X)\n",
                "\n",
                "    def select_genomes(df, cluster, label):\n",
                "        subset = df[(df.Cluster==cluster) & (df.Label==label)]\n",
                "        return subset, subset.shape[0]\n",
                "    \n",
                "    def sample_indices(df, num):\n",
                "        return df.sample(n=num, random_state=SEED).index.values\n",
                "\n",
                "    indices = []\n",
                "    for cluster in range(NUM_CLUSTERS):\n",
                "        positive, num_positive = select_genomes(genomes_df, cluster, label=1)\n",
                "        negative, num_negative =  select_genomes(genomes_df, cluster, label=0)\n",
                "        num_samples = min(num_positive, num_negative)\n",
                "        indices.append(sample_indices(positive, num_samples))\n",
                "        indices.append(sample_indices(negative, num_samples))\n",
                "\n",
                "    return genomes_df.iloc[np.concatenate(indices), :].reset_index(drop=True).copy()\n",
                "\n",
                "balanced_capsule_dataset = balance_quality(updated_capsule_genomes)\n",
                "format_and_save_dataset(balanced_capsule_dataset, \"fig2_panelB.csv\")"
            ]
        },
        {
            "cell_type": "markdown",
            "metadata": {},
            "source": [
                "If we plot a histogram of the `FractionCovered` field stratfied by `Label`, we can now see that the bias has been removed:"
            ]
        },
        {
            "cell_type": "code",
            "execution_count": 28,
            "metadata": {},
            "outputs": [
                {
                    "data": {
                        "text/plain": [
                            "(0.0, 705.0)"
                        ]
                    },
                    "execution_count": 28,
                    "metadata": {},
                    "output_type": "execute_result"
                },
                {
                    "data": {
                        "image/png": "[encoded data removed]",
                        "text/plain": [
                            "<Figure size 640x480 with 1 Axes>"
                        ]
                    },
                    "metadata": {},
                    "output_type": "display_data"
                }
            ],
            "source": [
                "hp_data = balanced_capsule_dataset.copy()\n",
                "hp_data.Label = hp_data.Label.apply(lambda x: \"Not B\" if x == 0 else \"B\")\n",
                "hp_data = hp_data.rename({\"Label\": \"Capsule type\"}, axis=1)\n",
                "ax = sns.histplot(data=hp_data, x=\"FractionCovered\", hue=\"Capsule type\", hue_order=[\"Not B\", \"B\"])\n",
                "ax.set_ylim([0, 705])"
            ]
        },
        {
            "cell_type": "markdown",
            "metadata": {},
            "source": [
                "We now proceed to split the dataset into training, validation, and test sets. We will use a stratified split by `Label`, assigning a fixed number of genomes for validation (500) and for test (1000)."
            ]
        },
        {
            "cell_type": "code",
            "execution_count": 29,
            "metadata": {},
            "outputs": [],
            "source": [
                "def split_data(\n",
                "    genomes_df: pd.DataFrame,\n",
                "    num_val: int = 500,\n",
                "    num_test: int = 1000,\n",
                ") -> pd.DataFrame:\n",
                "    \"\"\"Splits data.\"\"\"\n",
                "    indices = np.arange(genomes_df.shape[0])\n",
                "    labels = genomes_df.Label.values\n",
                "    dev_idx, test_idx = train_test_split(\n",
                "        indices,\n",
                "        stratify=labels,\n",
                "        test_size=num_test,\n",
                "        random_state=SEED\n",
                "    )\n",
                "    train_idx, val_idx = train_test_split(\n",
                "        dev_idx,\n",
                "        stratify=labels[dev_idx],\n",
                "        test_size=num_val,\n",
                "        random_state=SEED\n",
                "    )\n",
                "    genomes_df[\"Partition\"] = None\n",
                "    genomes_df.loc[train_idx, \"Partition\"] = \"training\"  \n",
                "    genomes_df.loc[val_idx, \"Partition\"] = \"validation\"  \n",
                "    genomes_df.loc[test_idx, \"Partition\"] = \"test\"  \n",
                "    return genomes_df[[\"Path\", \"Label\", \"Partition\"]]\n",
                "\n",
                "capsule_dataset = split_data(balanced_capsule_dataset, num_val=500, num_test=1000)"
            ]
        },
        {
            "cell_type": "markdown",
            "metadata": {},
            "source": [
                "Here's the final composition of the `capsule` dataset:"
            ]
        },
        {
            "cell_type": "code",
            "execution_count": 30,
            "metadata": {},
            "outputs": [
                {
                    "name": "stdout",
                    "output_type": "stream",
                    "text": [
                        "Total number of genomes: 19498\n",
                        "\n",
                        "Training set genomes: 17998\n",
                        "Of which 8999 with label 0 and 8999 with label 1\n",
                        "\n",
                        "Validation set genomes: 500\n",
                        "Of which 250 with label 0 and 250 with label 1\n",
                        "\n",
                        "Test set genomes: 1000\n",
                        "Of which 500 with label 0 and 500 with label 1\n",
                        "\n"
                    ]
                }
            ],
            "source": [
                "def print_dataset_statistics(df):\n",
                "    print(\"Total number of genomes:\", df.shape[0])\n",
                "    print()\n",
                "    \n",
                "    training_set = df[df.Partition==\"training\"]\n",
                "    print(\"Training set genomes:\", training_set.shape[0])\n",
                "    print(f\"Of which {training_set[training_set.Label==0].shape[0]} with label 0 and {training_set[training_set.Label==1].shape[0]} with label 1\")\n",
                "    print()\n",
                "\n",
                "    validation_set = df[df.Partition==\"validation\"]\n",
                "    print(\"Validation set genomes:\", validation_set.shape[0])\n",
                "    print(f\"Of which {validation_set[validation_set.Label==0].shape[0]} with label 0 and {validation_set[validation_set.Label==1].shape[0]} with label 1\")\n",
                "    print()\n",
                "\n",
                "    test_set = df[df.Partition==\"test\"]\n",
                "    print(\"Test set genomes:\", test_set.shape[0])\n",
                "    print(f\"Of which {test_set[test_set.Label==0].shape[0]} with label 0 and {test_set[test_set.Label==1].shape[0]} with label 1\")\n",
                "    print()\n",
                "\n",
                "print_dataset_statistics(capsule_dataset)\n",
                "\n"
            ]
        },
        {
            "cell_type": "markdown",
            "metadata": {},
            "source": [
                "## `disease` dataset\n",
                "For the `disease` dataset, we used a similar workflow. First, we kept genomes where the `disease` column was one of: `carrier`, `invasive (unspecified/other)`, `meningitis`, `septicaemia`, `meningitis and septicaemia`, and discarded the rest, narrowing the set to 25290 genomes."
            ]
        },
        {
            "cell_type": "code",
            "execution_count": 31,
            "metadata": {},
            "outputs": [
                {
                    "name": "stdout",
                    "output_type": "stream",
                    "text": [
                        "Total genomes for disease task: 20442\n"
                    ]
                }
            ],
            "source": [
                "phenotypes =  [\"carrier\", \"invasive (unspecified/other)\", \"meningitis\", \"septicaemia\", \"meningitis and septicaemia\",]\n",
                "disease_genomes = genomes[genomes.disease.isin(phenotypes)].copy()\n",
                "print(\"Total genomes for disease task:\", disease_genomes.shape[0])"
            ]
        },
        {
            "cell_type": "markdown",
            "metadata": {},
            "source": [
                "Then, we assign label `0` to genomes with `disease` equal to `carrier`, and label `1` otherwise "
            ]
        },
        {
            "cell_type": "code",
            "execution_count": 32,
            "metadata": {},
            "outputs": [
                {
                    "name": "stdout",
                    "output_type": "stream",
                    "text": [
                        "Total genomes after filtering: 20442\n",
                        "Distribution of labels:\n"
                    ]
                },
                {
                    "data": {
                        "text/plain": [
                            "1    15196\n",
                            "0     5246\n",
                            "Name: Label, dtype: int64"
                        ]
                    },
                    "execution_count": 32,
                    "metadata": {},
                    "output_type": "execute_result"
                }
            ],
            "source": [
                "def get_disease_label(disease: str) -> int:\n",
                "    if disease == \"carrier\":\n",
                "        return 0\n",
                "    return 1\n",
                "\n",
                "disease_genomes[\"Label\"] = disease_genomes.disease.apply(get_disease_label)\n",
                "\n",
                "print(\"Total genomes after filtering:\", disease_genomes.shape[0])\n",
                "print(\"Distribution of labels:\")\n",
                "disease_genomes.Label.value_counts()"
            ]
        },
        {
            "cell_type": "markdown",
            "metadata": {},
            "source": [
                "We can see that the dataset is imbalanced in favor of the `1` class. We again calculate the fraction of genome covered by the 10 longest contigs:"
            ]
        },
        {
            "cell_type": "code",
            "execution_count": 33,
            "metadata": {},
            "outputs": [
                {
                    "name": "stderr",
                    "output_type": "stream",
                    "text": [
                        "[Parallel(n_jobs=-1)]: Using backend LokyBackend with 96 concurrent workers.\n",
                        "[Parallel(n_jobs=-1)]: Done   8 tasks      | elapsed:    0.1s\n",
                        "[Parallel(n_jobs=-1)]: Done 324 tasks      | elapsed:    0.7s\n",
                        "[Parallel(n_jobs=-1)]: Done 1024 tasks      | elapsed:    1.3s\n",
                        "[Parallel(n_jobs=-1)]: Done 1924 tasks      | elapsed:    2.3s\n",
                        "[Parallel(n_jobs=-1)]: Done 3024 tasks      | elapsed:    3.4s\n",
                        "[Parallel(n_jobs=-1)]: Done 4324 tasks      | elapsed:    4.8s\n",
                        "[Parallel(n_jobs=-1)]: Done 5824 tasks      | elapsed:    6.4s\n",
                        "[Parallel(n_jobs=-1)]: Done 7524 tasks      | elapsed:    8.0s\n",
                        "[Parallel(n_jobs=-1)]: Done 9424 tasks      | elapsed:    9.8s\n",
                        "[Parallel(n_jobs=-1)]: Done 11524 tasks      | elapsed:   11.8s\n",
                        "[Parallel(n_jobs=-1)]: Done 13824 tasks      | elapsed:   14.1s\n",
                        "[Parallel(n_jobs=-1)]: Done 16324 tasks      | elapsed:   16.6s\n",
                        "[Parallel(n_jobs=-1)]: Done 19024 tasks      | elapsed:   19.5s\n",
                        "[Parallel(n_jobs=-1)]: Done 20442 out of 20442 | elapsed:   20.8s finished\n"
                    ]
                }
            ],
            "source": [
                "updated_disease_genomes = calculate_fraction_covered(disease_genomes)\n",
                "format_and_save_dataset(updated_disease_genomes, \"fig2_panelC.csv\")"
            ]
        },
        {
            "cell_type": "markdown",
            "metadata": {},
            "source": [
                "And, similarly to the `capsule` example, we plot `FractionCovered` stratified by `Label`, revealing the bias in this case too:"
            ]
        },
        {
            "cell_type": "code",
            "execution_count": 34,
            "metadata": {},
            "outputs": [
                {
                    "data": {
                        "text/plain": [
                            "(0.0, 705.0)"
                        ]
                    },
                    "execution_count": 34,
                    "metadata": {},
                    "output_type": "execute_result"
                },
                {
                    "data": {
                        "image/png": "[encoded data removed]",
                        "text/plain": [
                            "<Figure size 640x480 with 1 Axes>"
                        ]
                    },
                    "metadata": {},
                    "output_type": "display_data"
                }
            ],
            "source": [
                "hp_data = updated_disease_genomes.copy()\n",
                "hp_data.Label = hp_data.Label.apply(lambda x: \"Carriage\" if x == 0 else \"Invasive\")\n",
                "hp_data = hp_data.rename({\"Label\": \"Disease\"}, axis=1)\n",
                "ax = sns.histplot(data=hp_data, x=\"FractionCovered\", hue=\"Disease\", hue_order=[\"Carriage\", \"Invasive\"])\n",
                "ax.set_ylim([0, 705])"
            ]
        },
        {
            "cell_type": "markdown",
            "metadata": {},
            "source": [
                "We proceed to remove the bias in the same way as we did for the `capsule` task."
            ]
        },
        {
            "cell_type": "code",
            "execution_count": 35,
            "metadata": {},
            "outputs": [
                {
                    "name": "stderr",
                    "output_type": "stream",
                    "text": [
                        "/home/mp894858/miniconda3/envs/genpred/lib/python3.9/site-packages/sklearn/cluster/_kmeans.py:870: FutureWarning: The default value of `n_init` will change from 10 to 'auto' in 1.4. Set the value of `n_init` explicitly to suppress the warning\n",
                        "  warnings.warn(\n"
                    ]
                }
            ],
            "source": [
                "balanced_disease_dataset = balance_quality(updated_disease_genomes)\n",
                "format_and_save_dataset(balanced_disease_dataset, \"fig2_panelD.csv\")"
            ]
        },
        {
            "cell_type": "markdown",
            "metadata": {},
            "source": [
                "We plot again the histogram of `FractionCovered` stratified by `Label`, to see that the bias issue has been resolved."
            ]
        },
        {
            "cell_type": "code",
            "execution_count": 36,
            "metadata": {},
            "outputs": [
                {
                    "data": {
                        "text/plain": [
                            "(0.0, 705.0)"
                        ]
                    },
                    "execution_count": 36,
                    "metadata": {},
                    "output_type": "execute_result"
                },
                {
                    "data": {
                        "image/png": "[encoded data removed]",
                        "text/plain": [
                            "<Figure size 640x480 with 1 Axes>"
                        ]
                    },
                    "metadata": {},
                    "output_type": "display_data"
                }
            ],
            "source": [
                "hp_data = balanced_disease_dataset.copy()\n",
                "hp_data.Label = hp_data.Label.apply(lambda x: \"Carriage\" if x == 0 else \"Invasive\")\n",
                "hp_data = hp_data.rename({\"Label\": \"Disease\"}, axis=1)\n",
                "ax = sns.histplot(data=hp_data, x=\"FractionCovered\", hue=\"Disease\", hue_order=[\"Carriage\", \"Invasive\"])\n",
                "ax.set_ylim([0, 705])"
            ]
        },
        {
            "cell_type": "markdown",
            "metadata": {},
            "source": [
                "We split the data reserving 500 genomes for validation and 1000 genomes for test as we did before."
            ]
        },
        {
            "cell_type": "code",
            "execution_count": 37,
            "metadata": {},
            "outputs": [],
            "source": [
                "disease_dataset = split_data(balanced_disease_dataset, num_val=500, num_test=1000)"
            ]
        },
        {
            "cell_type": "markdown",
            "metadata": {},
            "source": [
                "Here's the final composition of the `disease` dataset."
            ]
        },
        {
            "cell_type": "code",
            "execution_count": 38,
            "metadata": {},
            "outputs": [
                {
                    "name": "stdout",
                    "output_type": "stream",
                    "text": [
                        "Total number of genomes: 9402\n",
                        "\n",
                        "Training set genomes: 7902\n",
                        "Of which 3951 with label 0 and 3951 with label 1\n",
                        "\n",
                        "Validation set genomes: 500\n",
                        "Of which 250 with label 0 and 250 with label 1\n",
                        "\n",
                        "Test set genomes: 1000\n",
                        "Of which 500 with label 0 and 500 with label 1\n",
                        "\n"
                    ]
                }
            ],
            "source": [
                "print_dataset_statistics(disease_dataset)\n"
            ]
        }
    ],
    "metadata": {
        "kernelspec": {
            "display_name": "Python 3.9.13 (conda)",
            "language": "python",
            "name": "python3"
        },
        "language_info": {
            "codemirror_mode": {
                "name": "ipython",
                "version": 3
            },
            "file_extension": ".py",
            "mimetype": "text/x-python",
            "name": "python",
            "nbconvert_exporter": "python",
            "pygments_lexer": "ipython3",
            "version": "3.10.12"
        },
        "orig_nbformat": 4,
        "vscode": {
            "interpreter": {
                "hash": "d13aa9a3e60e4f3cdde112bafe2a141a6bdcaa5530d749f5985ac4785e8066ea"
            }
        }
    },
    "nbformat": 4,
    "nbformat_minor": 2
}
