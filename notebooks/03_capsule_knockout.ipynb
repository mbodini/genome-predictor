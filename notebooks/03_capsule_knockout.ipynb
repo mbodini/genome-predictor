{
    "cells": [
        {
            "cell_type": "code",
            "execution_count": 5,
            "metadata": {},
            "outputs": [],
            "source": [
                "import pandas as pd\n",
                "import seaborn as sns\n",
                "from scipy import stats\n",
                "\n",
                "import genpred"
            ]
        },
        {
            "attachments": {},
            "cell_type": "markdown",
            "metadata": {},
            "source": [
                "# Capsule knock-out analysis\n",
                "\n",
                "## 1. Methods \n",
                "\n",
                "In this notebook, we are going to see the effect of removing the capsule loci from genomes that are classified in the capsule-B group with high confidence. First, let's recap what the experiment consists of:\n",
                "\n",
                "- we filter all genomes where the prediction is `capsule-B` with high confidence (>= 0.99), and discard all the other genomes, for a total of 497 genomes.\n",
                "- of these, we further filter all genomes where the capsule loci (all bases from gene `NEIS0044` to gene `NEIS0068`) is contained in a single contig. This reduces the set of genomes for this experiment to `32`.\n",
                "- we remove the locus, compute the prediction after the knock-out, and compare it to the prediction before the knock-out."
            ]
        },
        {
            "attachments": {},
            "cell_type": "markdown",
            "metadata": {},
            "source": [
                "## 2. Results\n",
                "\n",
                "### 2.1 Model predictions change significantly (wrt control) once capsule loci are knocked out\n",
                "\n",
                "First, we load the knockout and control groups data and display some statistics."
            ]
        },
        {
            "cell_type": "code",
            "execution_count": 6,
            "metadata": {},
            "outputs": [
                {
                    "name": "stdout",
                    "output_type": "stream",
                    "text": [
                        "Number of genomes: 32\n",
                        "Mean length of bases removed (control group): 25663.15625 +/- 696.7256649627183\n",
                        "Mean prediction before knockout (control group): 0.9999995613357322 +/- 2.162938330551989e-06\n",
                        "Number of capsule-B genomes before knockout (control group): 32\n",
                        "Mean prediction after knockout (control group): 0.9999995268581596 +/- 2.3430899844594444e-06\n",
                        "Number of capsule-B genomes after knockout (control group): 32\n",
                        "Number of switchs from capsule-B to capsule not-B after knockout (control group): 0\n",
                        "\n"
                    ]
                }
            ],
            "source": [
                "capsule_control_data = pd.read_csv(genpred.EXPS_ROOT / \"knockout/capsule/sentencepiece/8000/capsule-control/predictions.csv\")\n",
                "print(\"Number of genomes:\", len(capsule_control_data))\n",
                "print(f\"Mean length of bases removed (control group): {capsule_control_data.Length.mean()} +/- {capsule_control_data.Length.std()}\")\n",
                "print(f\"Mean prediction before knockout (control group): {capsule_control_data.Before.mean()} +/- {capsule_control_data.Before.std()}\")\n",
                "print(f\"Number of capsule-B genomes before knockout (control group): {(capsule_control_data.Before>0.5).sum()}\")\n",
                "print(f\"Mean prediction after knockout (control group): {capsule_control_data.After.mean()} +/- {capsule_control_data.After.std()}\")\n",
                "print(f\"Number of capsule-B genomes after knockout (control group): {(capsule_control_data.After>0.5).sum()}\")\n",
                "print(f\"Number of switchs from capsule-B to capsule not-B after knockout (control group): {len(capsule_control_data) - (capsule_control_data.After>0.5).sum()}\")\n",
                "print()"
            ]
        },
        {
            "cell_type": "code",
            "execution_count": 7,
            "metadata": {},
            "outputs": [
                {
                    "name": "stdout",
                    "output_type": "stream",
                    "text": [
                        "Number of genomes: 32\n",
                        "Mean length of bases removed (knockout group): 25663.15625 +/- 696.7256649627183\n",
                        "Mean prediction delta before knockout (knockout group): 0.9999995613357322 +/- 2.162938330551989e-06\n",
                        "Number of capsule-B genomes before knockout (knockout group): 32\n",
                        "Mean prediction delta after knockout (knockout group): 0.08778123290826002 +/- 0.2452001932889944\n",
                        "Number of capsule-B genomes after knockout (knockout group): 2\n",
                        "Number of switchs from capsule-B to capsule not-B after knockout (knockout group): 30\n"
                    ]
                }
            ],
            "source": [
                "capsule_ko_data = pd.read_csv(genpred.EXPS_ROOT / \"knockout/capsule/sentencepiece/8000/capsule/predictions.csv\")\n",
                "print(\"Number of genomes:\", len(capsule_ko_data))\n",
                "print(f\"Mean length of bases removed (knockout group): {capsule_control_data.Length.mean()} +/- {capsule_control_data.Length.std()}\")\n",
                "print(f\"Mean prediction delta before knockout (knockout group): {capsule_ko_data.Before.mean()} +/- {capsule_ko_data.Before.std()}\")\n",
                "print(f\"Number of capsule-B genomes before knockout (knockout group): {(capsule_ko_data.Before>0.5).sum()}\")\n",
                "print(f\"Mean prediction delta after knockout (knockout group): {capsule_ko_data.After.mean()} +/- {capsule_ko_data.After.std()}\")\n",
                "print(f\"Number of capsule-B genomes after knockout (knockout group): {(capsule_ko_data.After>0.5).sum()}\")\n",
                "print(f\"Number of switchs from capsule-B to capsule not-B after knockout (knockout group): {len(capsule_ko_data) - (capsule_ko_data.After>0.5).sum()}\")"
            ]
        },
        {
            "attachments": {},
            "cell_type": "markdown",
            "metadata": {},
            "source": [
                "Clearly, removing the capsule has had a strong impact, since the mean prediction changes drastically once the the capsule removed while staying essentially the in the control group. To reinforce the concept, we show a plot of the delta in predictions of the two groups:"
            ]
        },
        {
            "cell_type": "code",
            "execution_count": 8,
            "metadata": {},
            "outputs": [
                {
                    "data": {
                        "image/png": "[encoded data removed]",
                        "text/plain": [
                            "<Figure size 640x480 with 1 Axes>"
                        ]
                    },
                    "metadata": {},
                    "output_type": "display_data"
                }
            ],
            "source": [
                "data = pd.DataFrame({\"Genome\": capsule_control_data.Genome, \"Original prediction\": capsule_control_data.Before, \"Control knockout\": capsule_control_data.After, \"Capsule knockout\": capsule_ko_data.After})\n",
                "ax = sns.stripplot(data=data)\n",
                "ax.axhline(y=0.5, color=\"k\", linestyle=\"--\")\n",
                "ax.set_ylabel(\"Model Probability\")\n",
                "ax.set_xlabel(\"Group\");\n",
                "\n",
                "data.to_csv(\"fig5_panelA.csv\", index=False)"
            ]
        },
        {
            "attachments": {},
            "cell_type": "markdown",
            "metadata": {},
            "source": [
                "From the plot, it is apparent that most `capsule-B` genomes switch predictions to `non-capsule-B` once the capsule loci are removed. Lastly, we show that the deltas observed in the knock-out group are significantly different than the deltas observed in the control group. To do so, we use a Wilcoxon signed rank test (null hypothesis: **no difference between the deltas in the control group and the deltas in the knockout group**). We reject the null hypothesis at a significance level $\\alpha = 0.05$:"
            ]
        },
        {
            "cell_type": "code",
            "execution_count": 9,
            "metadata": {},
            "outputs": [
                {
                    "name": "stdout",
                    "output_type": "stream",
                    "text": [
                        "Null hypothesis rejected (p-value 4.656612873077393e-10)\n"
                    ]
                }
            ],
            "source": [
                "SIGNIFICANCE_LEVEL = 0.05\n",
                "\n",
                "pvalue = stats.wilcoxon(data[\"Control knockout\"], data[\"Capsule knockout\"]).pvalue\n",
                "\n",
                "if pvalue < SIGNIFICANCE_LEVEL:\n",
                "    print(f\"Null hypothesis rejected (p-value {pvalue})\")\n",
                "else:\n",
                "    print(f\"Not enough evidence to reject the null hypothesis (p-value {pvalue})\")\n"
            ]
        }
    ],
    "metadata": {
        "kernelspec": {
            "display_name": "Python 3.9.13 (conda)",
            "language": "python",
            "name": "python3"
        },
        "language_info": {
            "codemirror_mode": {
                "name": "ipython",
                "version": 3
            },
            "file_extension": ".py",
            "mimetype": "text/x-python",
            "name": "python",
            "nbconvert_exporter": "python",
            "pygments_lexer": "ipython3",
            "version": "3.10.12"
        },
        "orig_nbformat": 4,
        "vscode": {
            "interpreter": {
                "hash": "d13aa9a3e60e4f3cdde112bafe2a141a6bdcaa5530d749f5985ac4785e8066ea"
            }
        }
    },
    "nbformat": 4,
    "nbformat_minor": 2
}
