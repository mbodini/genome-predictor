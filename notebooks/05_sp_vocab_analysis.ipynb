{
 "cells": [
  {
   "cell_type": "code",
   "execution_count": 1,
   "metadata": {},
   "outputs": [],
   "source": [
    "import json\n",
    "import statistics as stats\n",
    "\n",
    "import genpred\n",
    "\n",
    "\n",
    "def load_sp_vocabulary(task=\"disease\", vocab_size=32000):\n",
    "    path = genpred.DATA_ROOT / f\"{task}/sentencepiece/{vocab_size}/tokenizer.json\"\n",
    "    with open(path, \"r\", encoding=\"utf-8\") as file:\n",
    "        vocabulary = json.load(file)[\"model\"][\"vocab\"]\n",
    "    return [word for word in vocabulary if len(word) >= 3]\n",
    "\n",
    "\n",
    "def print_stats(vocabulary, vocab_size=32000):\n",
    "    vocabulary_size = len(vocabulary)\n",
    "    word_lengths = [len(word) for word in vocabulary]\n",
    "    longer_than_8 = [wl for wl in word_lengths if wl > 8]\n",
    "\n",
    "    print(f\"Statistics for sentencepiece {vocab_size} vocabulary:\", end=\"\\n\\n\")\n",
    "    print(f\"Min. word length: {min(word_lengths)}\")\n",
    "    print(f\"Max. word length: {max(word_lengths)}\")\n",
    "    print(f\"Mean word length: {stats.mean(word_lengths)} +/- {stats.stdev(word_lengths)}\")\n",
    "    print(f\"Word median: {stats.median(word_lengths)}\")\n",
    "    print(f\"Word mode: {stats.mode(word_lengths)}\")\n",
    "    print(f\"Number of words longer than 8 bases: {len(longer_than_8)}\")\n",
    "    print(f\"Percentage of words longer than 8 bases: {len(longer_than_8) / vocabulary_size * 100}\")\n"
   ]
  },
  {
   "attachments": {},
   "cell_type": "markdown",
   "metadata": {},
   "source": [
    "## Analysis of the sentencepiece vocabulary\n",
    "\n",
    "Here, we perform an analysis of the 32k sentencepiece vocabulary (used in the `disease` task) to show its property when compared to the k-mer vocabularies."
   ]
  },
  {
   "cell_type": "code",
   "execution_count": 2,
   "metadata": {},
   "outputs": [
    {
     "name": "stdout",
     "output_type": "stream",
     "text": [
      "Statistics for sentencepiece 32000 vocabulary:\n",
      "\n",
      "Min. word length: 3\n",
      "Max. word length: 410\n",
      "Mean word length: 16.59013727758842 +/- 21.827647853364194\n",
      "Word median: 9\n",
      "Word mode: 8\n",
      "Number of words longer than 8 bases: 21121\n",
      "Percentage of words longer than 8 bases: 66.04646799462147\n"
     ]
    }
   ],
   "source": [
    "vocabulary_32k = load_sp_vocabulary(task=\"disease\", vocab_size=32000)\n",
    "print_stats(vocabulary_32k, vocab_size=32000)"
   ]
  },
  {
   "attachments": {},
   "cell_type": "markdown",
   "metadata": {},
   "source": [
    "These statistics show that the vocabulary obtained with sentencepiece is drastically different from k-mer vocabularies, since:\n",
    "\n",
    "- it contains words longer than 8 bases (while it is not feasible for k-mers to include words longer than 9 due to combinatorial explosion of the vocabulary size);\n",
    "\n",
    "- the majority of words (66%) are longer than 8 bases.\n",
    "\n",
    "This remains true even for the 8k vocabulary used for the `capsule` task:"
   ]
  },
  {
   "cell_type": "code",
   "execution_count": 3,
   "metadata": {},
   "outputs": [
    {
     "name": "stdout",
     "output_type": "stream",
     "text": [
      "Statistics for sentencepiece 8000 vocabulary:\n",
      "\n",
      "Min. word length: 3\n",
      "Max. word length: 99\n",
      "Mean word length: 8.763032581453635 +/- 5.678093322486045\n",
      "Word median: 8.0\n",
      "Word mode: 7\n",
      "Number of words longer than 8 bases: 2000\n",
      "Percentage of words longer than 8 bases: 25.062656641604008\n"
     ]
    }
   ],
   "source": [
    "vocabulary_8k = load_sp_vocabulary(task=\"capsule\", vocab_size=8000)\n",
    "print_stats(vocabulary_8k, vocab_size=8000)"
   ]
  },
  {
   "attachments": {},
   "cell_type": "markdown",
   "metadata": {},
   "source": [
    "In this case, even though the vocabulary has approximately 1/10 words in total compared to the largest k-mer vocabulary (containing words of 8 bases at most), it still contains 25% of words longer than 8 bases."
   ]
  }
 ],
 "metadata": {
  "kernelspec": {
   "display_name": "Python 3",
   "language": "python",
   "name": "python3"
  },
  "language_info": {
   "codemirror_mode": {
    "name": "ipython",
    "version": 3
   },
   "file_extension": ".py",
   "mimetype": "text/x-python",
   "name": "python",
   "nbconvert_exporter": "python",
   "pygments_lexer": "ipython3",
   "version": "3.9.16"
  },
  "orig_nbformat": 4
 },
 "nbformat": 4,
 "nbformat_minor": 2
}
